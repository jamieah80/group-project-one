{
 "cells": [
  {
   "cell_type": "code",
   "execution_count": null,
   "metadata": {},
   "outputs": [],
   "source": [
    "# Dependencies and Setup\n",
    "import matplotlib.pyplot as plt\n",
    "import pandas as pd\n",
    "import requests\n",
    "import json\n",
    "\n",
    "# Import API key\n",
    "from api_keys import api_key"
   ]
  },
  {
   "cell_type": "code",
   "execution_count": null,
   "metadata": {},
   "outputs": [],
   "source": [
    "oscar_data= pd.read_csv(\"Resources/oscar_data.csv\")\n",
    "oscar_data.head()"
   ]
  },
  {
   "cell_type": "code",
   "execution_count": null,
   "metadata": {},
   "outputs": [],
   "source": [
    "nominees = oscar_data[[\"Best Picture\", \"Nominee 1\", \"Nominee 2\", \"Nominee 3\", \"Nominee 4\"]]\n",
    "nominees"
   ]
  },
  {
   "cell_type": "code",
   "execution_count": null,
   "metadata": {},
   "outputs": [],
   "source": [
    "url = \"https://api.themoviedb.org/3\"\n",
    "\n",
    "startdate = \"2022-11-01\"\n",
    "enddate = \"2022-12-01\"\n",
    "\n",
    "response = requests.get(f'{url}/discover/movie?include_adult=false&include_video=false&primary_release_date.gte={startdate}&primary_release_date.lte={enddate}&with_original_language=en&api_key={api_key}').json()"
   ]
  },
  {
   "cell_type": "code",
   "execution_count": null,
   "metadata": {},
   "outputs": [],
   "source": [
    "responseid = {'Title' : [],'ID' : [], 'Vote Average' : []}\n",
    "\n",
    "for i in range(10):\n",
    "    responseid['Title'].append(response[\"results\"][i][\"title\"])\n",
    "    responseid['ID'].append(response[\"results\"][i][\"id\"])\n",
    "    responseid['Vote Average'].append(response[\"results\"][i][\"vote_average\"])\n",
    "\n",
    "moviedata = pd.DataFrame(responseid)\n",
    "moviedata"
   ]
  },
  {
   "cell_type": "code",
   "execution_count": null,
   "metadata": {},
   "outputs": [],
   "source": [
    "title = []\n",
    "vote = []\n",
    "release_date = []\n",
    "\n",
    "for i in range(10):\n",
    "    movie_id = i\n",
    "\n",
    "    movie_response = requests.get(f'{url}/movie/{movie_id}?api_key={api_key}').json()\n",
    "    \n",
    "    try:\n",
    "        print(f'Title = {movie_response[\"original_title\"]}')\n",
    "        title.append(movie_response[\"original_title\"])\n",
    "    except: KeyError\n",
    "\n",
    "    try:\n",
    "        print(f'Average Vote = {movie_response[\"vote_average\"]}')\n",
    "        vote.append(movie_response[\"vote_average\"])\n",
    "    except: KeyError\n",
    "\n",
    "    try:\n",
    "        print(f'Release Date = {movie_response[\"release_date\"]}')\n",
    "        release_date.append(movie_response[\"release_date\"])\n",
    "    except: KeyError"
   ]
  },
  {
   "cell_type": "code",
   "execution_count": null,
   "metadata": {},
   "outputs": [],
   "source": [
    "movie_id = 1022796\n",
    "\n",
    "movie_response = requests.get(f'{url}/movie/{movie_id}?api_key={api_key}').json()\n",
    "\n",
    "print(json.dumps(movie_response, indent=4, sort_keys=True))\n",
    "print(f'Average Vote = {movie_response[\"vote_average\"]}')\n",
    "print(f'Release Date = {movie_response[\"release_date\"]}')"
   ]
  },
  {
   "cell_type": "code",
   "execution_count": null,
   "metadata": {},
   "outputs": [],
   "source": [
    "title = []\n",
    "vote = []\n",
    "release_date = []\n",
    "\n",
    "for i in range(10):\n",
    "    movie_id = i\n",
    "\n",
    "    movie_response = requests.get(f'{url}/movie/{movie_id}?api_key={api_key}').json()\n",
    "    \n",
    "    try:\n",
    "        print(f'Title = {movie_response[\"original_title\"]}')\n",
    "        title.append(movie_response[\"original_title\"])\n",
    "    except: KeyError\n",
    "\n",
    "    try:\n",
    "        print(f'Average Vote = {movie_response[\"vote_average\"]}')\n",
    "        vote.append(movie_response[\"vote_average\"])\n",
    "    except: KeyError\n",
    "\n",
    "    try:\n",
    "        print(f'Release Date = {movie_response[\"release_date\"]}')\n",
    "        release_date.append(movie_response[\"release_date\"])\n",
    "    except: KeyError"
   ]
  },
  {
   "cell_type": "code",
   "execution_count": null,
   "metadata": {},
   "outputs": [],
   "source": [
    "df = pd.DataFrame({\"Title\" : title,\n",
    "                   \"Vote\" : vote,\n",
    "                   \"Release Date\" : release_date})\n",
    "df"
   ]
  }
 ],
 "metadata": {
  "kernelspec": {
   "display_name": "dev",
   "language": "python",
   "name": "python3"
  },
  "language_info": {
   "codemirror_mode": {
    "name": "ipython",
    "version": 3
   },
   "file_extension": ".py",
   "mimetype": "text/x-python",
   "name": "python",
   "nbconvert_exporter": "python",
   "pygments_lexer": "ipython3",
   "version": "3.10.13"
  }
 },
 "nbformat": 4,
 "nbformat_minor": 2
}
