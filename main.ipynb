{
 "cells": [
  {
   "cell_type": "code",
   "execution_count": null,
   "metadata": {},
   "outputs": [],
   "source": [
    "# Dependencies and Setup\n",
    "import matplotlib.pyplot as plt\n",
    "import pandas as pd\n",
    "import numpy as np\n",
    "import requests\n",
    "import time\n",
    "import datetime\n",
    "from scipy.stats import linregress\n",
    "import json\n",
    "import pprint\n",
    "import warnings\n",
    "warnings.filterwarnings('ignore')\n",
    "\n",
    "#use linregplot to easily generate a scatterplot with linear regression line and formula from a dataframe - linregplot(dataframe, column name for x, column name for y, x axis label, y axis label)\n",
    "from scatterplot_generator import linregplot\n",
    "\n",
    "# Import API key\n",
    "from api_keys import api_key"
   ]
  },
  {
   "cell_type": "code",
   "execution_count": null,
   "metadata": {},
   "outputs": [],
   "source": [
    "# read in csv\n",
    "oscar_data= pd.read_csv(\"Resources/oscar_data.csv\")\n",
    "oscar_data.head()"
   ]
  },
  {
   "cell_type": "code",
   "execution_count": null,
   "metadata": {},
   "outputs": [],
   "source": [
    "all_nominees = oscar_data[[\"Year\", \"Best Picture\", \"Nominee 1\", \"Nominee 2\", \"Nominee 3\", \"Nominee 4\"]]\n",
    "\n",
    "#Can we do all nominees in every category just for one year as well?"
   ]
  },
  {
   "cell_type": "code",
   "execution_count": null,
   "metadata": {},
   "outputs": [],
   "source": []
  },
  {
   "cell_type": "code",
   "execution_count": null,
   "metadata": {},
   "outputs": [],
   "source": [
    "base_url = \"https://api.themoviedb.org/3/\"\n",
    "\n",
    "#Enter year\n",
    "\n",
    "year = \"2018\"\n",
    "\n",
    "startdate = f\"{year}-01-01\"\n",
    "enddate = f\"{year}-12-31\"\n",
    "\n",
    "all_movies_response = requests.get(f'{base_url}/discover/movie?include_adult=false&include_video=false&primary_release_date.gte={startdate}&primary_release_date.lte={enddate}&with_original_language=en&sort_by=vote_count.desc&api_key={api_key}').json()\n",
    "total_pages = json.dumps(all_movies_response[\"total_pages\"], indent=4, sort_keys=True)"
   ]
  },
  {
   "cell_type": "code",
   "execution_count": null,
   "metadata": {},
   "outputs": [],
   "source": [
    "responseid = {'Title' : [],'ID' : [], 'Vote Average' : [], 'Release Date' : []}\n",
    "\n",
    "#Request from API for each month\n",
    "for i in range(1,int(total_pages)//10):\n",
    "\n",
    "#EDIT DATES FOR DIFFERENT YEARS\n",
    "    all_movies_response = requests.get(f'{base_url}/discover/movie?include_adult=false&include_video=false&primary_release_date.gte={startdate}&primary_release_date.lte={enddate}&with_original_language=en&sort_by=vote_count.desc&api_key={api_key}&page={i}').json()\n",
    "    total_pages = json.dumps(all_movies_response[\"total_pages\"], indent=4, sort_keys=True)\n",
    "\n",
    "    #puts all results into a dictionary\n",
    "    for j in range(len(all_movies_response[\"results\"])):\n",
    "        responseid['Title'].append(all_movies_response[\"results\"][j][\"title\"])\n",
    "        responseid['ID'].append(all_movies_response[\"results\"][j][\"id\"])\n",
    "        responseid['Vote Average'].append(all_movies_response[\"results\"][j][\"vote_average\"])\n",
    "        responseid['Release Date'].append(all_movies_response[\"results\"][j][\"release_date\"])\n",
    "\n",
    "#EDIT DATES FOR DIFFERENT YEARS"
   ]
  },
  {
   "cell_type": "code",
   "execution_count": null,
   "metadata": {},
   "outputs": [],
   "source": [
    "#dictionary to dataframe, sorted and prepped for use\n",
    "\n",
    "input_format = '%Y-%m-%d'\n",
    "moviedata = pd.DataFrame(responseid)\n",
    "# input string\n",
    "moviedata['Release Date'] = pd.to_datetime(moviedata['Release Date'], utc=True)\n",
    "\n",
    "moviedata['Release Date UNIX'] = moviedata['Release Date'].astype(np.int64)\n",
    "\n",
    "moviedata = moviedata.sort_values(\"Release Date\")\n",
    "#moviedata['Release Date UNIX'] = (moviedata['Release Date'] - datetime(1970,1,1)).total_seconds()\n",
    "moviedata['Day'] = moviedata['Release Date'].dt.day\n",
    "moviedata['Month'] = moviedata['Release Date'].dt.month\n",
    "moviedata['Year'] = moviedata['Release Date'].dt.year\n",
    "moviedata = moviedata.reset_index(drop=True)\n",
    "\n",
    "moviedata[\"Nominated\"] = \"\"\n",
    "moviedata"
   ]
  },
  {
   "cell_type": "code",
   "execution_count": null,
   "metadata": {},
   "outputs": [],
   "source": [
    "titles = moviedata['Title'].to_list()\n",
    "noms = []\n",
    "print(year)\n",
    "\n",
    "\n",
    "for movie in titles:\n",
    "    mask = oscar_data[oscar_data.apply(lambda row: row.astype(str).str.contains(str(movie), case=False).any(), axis=1)]\n",
    "    if mask.empty:\n",
    "        noms.append(\"No\")\n",
    "        \n",
    "    else:\n",
    "        if mask['Year'].values[0] == year:\n",
    "            noms.append(\"Yes\")\n",
    "        else:\n",
    "            noms.append(\"No\")\n",
    "\n",
    "moviedata['Nominated'] = noms"
   ]
  },
  {
   "cell_type": "code",
   "execution_count": null,
   "metadata": {},
   "outputs": [],
   "source": [
    "nominatedmovies = moviedata.loc[moviedata['Nominated'] == \"Yes\"]\n",
    "nominatedmovies"
   ]
  },
  {
   "cell_type": "code",
   "execution_count": null,
   "metadata": {},
   "outputs": [],
   "source": [
    "# how to get the winner/nominees for a given year. Could use this code or something like it later.\n",
    "\n",
    "nominees = all_nominees.loc[all_nominees[\"Year\"] == \"2022\",[\"Best Picture\", \"Nominee 1\", \"Nominee 2\", \"Nominee 3\", \"Nominee 4\"]]\n"
   ]
  },
  {
   "cell_type": "code",
   "execution_count": 177,
   "metadata": {},
   "outputs": [
    {
     "ename": "NameError",
     "evalue": "name 'linregress' is not defined",
     "output_type": "error",
     "traceback": [
      "\u001b[1;31m---------------------------------------------------------------------------\u001b[0m",
      "\u001b[1;31mNameError\u001b[0m                                 Traceback (most recent call last)",
      "Cell \u001b[1;32mIn[177], line 1\u001b[0m\n\u001b[1;32m----> 1\u001b[0m linregplot(moviedata, \u001b[38;5;124m'\u001b[39m\u001b[38;5;124mRelease Date UNIX\u001b[39m\u001b[38;5;124m'\u001b[39m, \u001b[38;5;124m'\u001b[39m\u001b[38;5;124mVote Average\u001b[39m\u001b[38;5;124m'\u001b[39m, \u001b[38;5;124m'\u001b[39m\u001b[38;5;124mRelease Date\u001b[39m\u001b[38;5;124m'\u001b[39m, \u001b[38;5;124m'\u001b[39m\u001b[38;5;124mAverage Review Score\u001b[39m\u001b[38;5;124m'\u001b[39m)\n",
      "File \u001b[1;32md:\\GroupFile\\group-project-one\\scatterplot_generator.py:7\u001b[0m, in \u001b[0;36mlinregplot\u001b[1;34m(i, x, y, j, k)\u001b[0m\n\u001b[0;32m      6\u001b[0m \u001b[38;5;28;01mdef\u001b[39;00m \u001b[38;5;21mlinregplot\u001b[39m(i,x,y,j,k):\n\u001b[1;32m----> 7\u001b[0m     lr_slope, lr_int, lr_r, lr_p, lr_std_err \u001b[38;5;241m=\u001b[39m linregress(i[x],i[y])\n\u001b[0;32m      8\u001b[0m     lr_fit \u001b[38;5;241m=\u001b[39m lr_slope \u001b[38;5;241m*\u001b[39m i[x] \u001b[38;5;241m+\u001b[39m lr_int\n\u001b[0;32m      9\u001b[0m     title \u001b[38;5;241m=\u001b[39m \u001b[38;5;28mstr\u001b[39m(\u001b[38;5;124mf\u001b[39m\u001b[38;5;124m\"\u001b[39m\u001b[38;5;132;01m{\u001b[39;00mj\u001b[38;5;132;01m}\u001b[39;00m\u001b[38;5;124m vs. \u001b[39m\u001b[38;5;132;01m{\u001b[39;00mk\u001b[38;5;132;01m}\u001b[39;00m\u001b[38;5;124m\"\u001b[39m)\n",
      "\u001b[1;31mNameError\u001b[0m: name 'linregress' is not defined"
     ]
    }
   ],
   "source": [
    "linregplot(moviedata, 'Release Date UNIX', 'Vote Average', 'Release Date', 'Average Review Score')\n",
    "\n",
    "\n",
    "# scatter plot needs work."
   ]
  },
  {
   "cell_type": "code",
   "execution_count": null,
   "metadata": {},
   "outputs": [],
   "source": [
    "#requests.get(f'{base_url}/movie/1159307?&api_key={api_key}').json()\n"
   ]
  }
 ],
 "metadata": {
  "kernelspec": {
   "display_name": "dev",
   "language": "python",
   "name": "python3"
  },
  "language_info": {
   "codemirror_mode": {
    "name": "ipython",
    "version": 3
   },
   "file_extension": ".py",
   "mimetype": "text/x-python",
   "name": "python",
   "nbconvert_exporter": "python",
   "pygments_lexer": "ipython3",
   "version": "3.11.5"
  }
 },
 "nbformat": 4,
 "nbformat_minor": 2
}
